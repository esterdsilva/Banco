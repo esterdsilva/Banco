{
  "nbformat": 4,
  "nbformat_minor": 0,
  "metadata": {
    "colab": {
      "provenance": [],
      "authorship_tag": "ABX9TyO30DlcokzPoYBmLxuupogp",
      "include_colab_link": true
    },
    "kernelspec": {
      "name": "python3",
      "display_name": "Python 3"
    },
    "language_info": {
      "name": "python"
    }
  },
  "cells": [
    {
      "cell_type": "markdown",
      "metadata": {
        "id": "view-in-github",
        "colab_type": "text"
      },
      "source": [
        "<a href=\"https://colab.research.google.com/github/esterdsilva/Banco/blob/main/programas%20simples%20em%20python.ipynb\" target=\"_parent\"><img src=\"https://colab.research.google.com/assets/colab-badge.svg\" alt=\"Open In Colab\"/></a>"
      ]
    },
    {
      "cell_type": "code",
      "execution_count": null,
      "metadata": {
        "id": "KcdjMvcCxI5M"
      },
      "outputs": [],
      "source": [
        "saldo = 1000\n",
        "\n",
        "while True:\n",
        "    print(\"\\nMenu:\")\n",
        "    print(\"1 - Consultar saldo\")\n",
        "    print(\"2 - Sacar valor\")\n",
        "    print(\"3 - Depositar valor\")\n",
        "    print(\"4 - Sair do sistema\")\n",
        "\n",
        "    opcao = input(\"Escolha uma opção: \")\n",
        "\n",
        "    if opcao == \"1\":\n",
        "        print(f\"Seu saldo é: R$ {saldo: }\")\n",
        "\n",
        "    elif opcao == \"2\":\n",
        "        valor = float(input(\"Digite o valor desejado para sacar: \"))\n",
        "        if valor <= saldo:\n",
        "            saldo -= valor\n",
        "            print(f\"Saque realizado com sucesso. Seu novo saldo é de: R$ {saldo: }\")\n",
        "        else:\n",
        "            print(\"Saldo insuficiente.\")\n",
        "\n",
        "    elif opcao == \"3\":\n",
        "        valor = float(input(\"Digite o valor para depositar: \"))\n",
        "        saldo += valor\n",
        "        print(f\"Depósito realizado com sucesso. Seu novo saldo é de: R$ {saldo: }\")\n",
        "\n",
        "    elif opcao == \"4\":\n",
        "        print(\"Você saiu do sistema, obrigado!\")\n",
        "        break\n",
        "    else:\n",
        "        print(\"Opção inválida. Tente novamente.\")\n"
      ]
    },
    {
      "cell_type": "code",
      "source": [
        "import random\n",
        "\n",
        "numero = random.randint(1, 50)\n",
        "\n",
        "tentativas = 5\n",
        "\n",
        "while tentativas > 0:\n",
        "    palpite = int(input(\"Adivinhe o número (entre 1 e 50): \"))\n",
        "\n",
        "    if palpite == numero:\n",
        "        print(\"Parabéns! Você acertou!\")\n",
        "        break\n",
        "    elif palpite < numero:\n",
        "        print(\"O número é maior.\")\n",
        "    else:\n",
        "        print(\"O número é menor.\")\n",
        "\n",
        "    tentativas -= 1\n",
        "\n",
        "if tentativas == 0 and palpite != numero:\n",
        "    print(f\"Você perdeu. O número era {numero}.\")\n"
      ],
      "metadata": {
        "colab": {
          "base_uri": "https://localhost:8080/"
        },
        "collapsed": true,
        "id": "fbiFO1jr0f8T",
        "outputId": "ec010eed-2011-4c04-9d06-fce2a277ba83"
      },
      "execution_count": 12,
      "outputs": [
        {
          "output_type": "stream",
          "name": "stdout",
          "text": [
            "Adivinhe o número (entre 1 e 50): 30\n",
            "O número é menor.\n",
            "Adivinhe o número (entre 1 e 50): 15\n",
            "O número é menor.\n",
            "Adivinhe o número (entre 1 e 50): 2\n",
            "O número é maior.\n",
            "Adivinhe o número (entre 1 e 50): 6\n",
            "O número é maior.\n",
            "Adivinhe o número (entre 1 e 50): 9\n",
            "O número é maior.\n",
            "Você perdeu. O número era 11.\n"
          ]
        }
      ]
    },
    {
      "cell_type": "code",
      "source": [
        "def eh_palindromo(texto):\n",
        "    texto = texto.replace(\" \", \"\").lower()\n",
        "\n",
        "    if texto == texto[::-1]:\n",
        "        print(\"É um palíndromo.\")\n",
        "    else:\n",
        "        print(\"Não é um palíndromo.\")\n",
        "\n",
        "frase = input(\"Digite uma palavra ou frase: \")\n",
        "eh_palindromo(frase)\n"
      ],
      "metadata": {
        "colab": {
          "base_uri": "https://localhost:8080/"
        },
        "id": "bYQiqgJ537xK",
        "outputId": "38e5d561-4c3c-45d0-975c-8abb923f8eaf"
      },
      "execution_count": 7,
      "outputs": [
        {
          "output_type": "stream",
          "name": "stdout",
          "text": [
            "Digite uma palavra ou frase: radar\n",
            "É um palíndromo.\n"
          ]
        }
      ]
    },
    {
      "cell_type": "code",
      "source": [
        "import random\n",
        "import string\n",
        "\n",
        "def gerar_senha():\n",
        "    caracteres = list(string.ascii_letters + string.digits)\n",
        "\n",
        "    senha = random.sample(caracteres, 10)\n",
        "\n",
        "    senha_final = ''.join(senha)\n",
        "    return senha_final\n",
        "\n",
        "print(\"Senha gerada:\", gerar_senha())\n"
      ],
      "metadata": {
        "colab": {
          "base_uri": "https://localhost:8080/"
        },
        "id": "-RLSu2fk4bg1",
        "outputId": "a639a7dd-abce-4ed2-e537-41ac72ac89e3"
      },
      "execution_count": 8,
      "outputs": [
        {
          "output_type": "stream",
          "name": "stdout",
          "text": [
            "Senha gerada: oOGYR9nirA\n"
          ]
        }
      ]
    },
    {
      "cell_type": "code",
      "source": [
        "alunos = []\n",
        "\n",
        "while True:\n",
        "    nome = input(\"Nome do aluno: \")\n",
        "    nota1 = float(input(\"Nota 1: \"))\n",
        "    nota2 = float(input(\"Nota 2: \"))\n",
        "\n",
        "    media = (nota1 + nota2) / 2\n",
        "\n",
        "    if media >= 7:\n",
        "        situacao = \"Aprovado\"\n",
        "    elif media >= 5:\n",
        "        situacao = \"Recuperação\"\n",
        "    else:\n",
        "        situacao = \"Reprovado\"\n",
        "\n",
        "    alunos.append([nome, media, situacao])\n",
        "\n",
        "    continuar = input(\"Deseja cadastrar outro aluno? (s/n): \")\n",
        "    if continuar.lower() != 's':\n",
        "        break\n",
        "\n",
        "print(\"\\nBoletim dos alunos:\")\n",
        "for aluno in alunos:\n",
        "    print(f\"Nome: {aluno[0]}, Média: {aluno[1]:.2f}, Situação: {aluno[2]}\")\n"
      ],
      "metadata": {
        "id": "JufvUlZ04qi1"
      },
      "execution_count": null,
      "outputs": []
    }
  ]
}